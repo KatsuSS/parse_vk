{
 "cells": [
  {
   "cell_type": "code",
   "execution_count": 265,
   "metadata": {},
   "outputs": [],
   "source": [
    "import vk\n",
    "ses = vk.Session(access_token=token)  # Авторизация\n",
    "vk_api = vk.API(ses)"
   ]
  },
  {
   "cell_type": "code",
   "execution_count": 213,
   "metadata": {},
   "outputs": [],
   "source": [
    "group = vk_api.groups.getMembers(group_id='v5inf',v=5.92)"
   ]
  },
  {
   "cell_type": "code",
   "execution_count": 214,
   "metadata": {},
   "outputs": [],
   "source": [
    "def getUserId(link):\n",
    "    id = link\n",
    "    if 'vk.com/' in link: #  проверяем эту ссылку\n",
    "        id = link.split('/')[-1]  # если да, то получаем его последнюю часть\n",
    "    if not id.replace('id', '').isdigit(): # если в нем после отсечения 'id' сами цифры - это и есть id \n",
    "        id = vk_api.utils.resolveScreenName(screen_name=id,v=5.92)['object_id'] # если нет, получаем id с помощью метода API\n",
    "    else:\n",
    "        id = id.replace('id', '')\n",
    "    return int(id)"
   ]
  },
  {
   "cell_type": "code",
   "execution_count": 215,
   "metadata": {},
   "outputs": [],
   "source": [
    "# count это количество запросов (и количество постов = 100 * count постов)\n",
    "def getLikes(user_id, cnt, vk_api):\n",
    "    import time\n",
    "    # подписки пользователя\n",
    "    subscriptions_list = vk_api.users.getSubscriptions(user_id=user_id,extended=0,v=5.92)['groups']['items']\n",
    "    # формируем список id, который нужно передать в следующий метод\n",
    "    groups_list = ['-' + str(x) for x in subscriptions_list]\n",
    "    posts = {}\n",
    "    # формируем ленту новостей\n",
    "    newsfeed = vk_api.newsfeed.get(\n",
    "        filters='post',\n",
    "        source_ids=', '.join(groups_list),\n",
    "        count=100, timeout=10,v=5.92)\n",
    "    # добавляем посты в словарь в формате id_поста: id_группы\n",
    "    posts.update({x['post_id']: x['source_id'] for x in newsfeed['items']})\n",
    "    # нужно для получения следующей партии\n",
    "    # если требуется более одного запроса — делаем остаток в цикле\n",
    "    if cnt != 1:\n",
    "        for c in range(cnt - 1):\n",
    "            next_from = newsfeed['next_from']\n",
    "            kwargs = {\n",
    "                'start_from': next_from,\n",
    "                'filters': 'post',\n",
    "                'source_ids': ', '.join(groups_list),\n",
    "                'count': 100,\n",
    "                'timeout': 10,\n",
    "                'v':5.92\n",
    "            }\n",
    "            newsfeed = vk_api.newsfeed.get(**kwargs)\n",
    "\n",
    "            posts.update({x['post_id']: x['source_id'] for x in newsfeed['items']})\n",
    "            time.sleep(1)\n",
    "    liked_posts = []\n",
    "\n",
    "    print('Лайкнутые посты:')\n",
    "    for post in posts.items():\n",
    "        \n",
    "        try:\n",
    "            itemID = post[0]\n",
    "            ownerID = post[1]\n",
    "            timeOut = 5\n",
    "            isLiked = vk_api.likes.isLiked(\n",
    "                user_id=user_id,\n",
    "                item_id=itemID,\n",
    "                type='post',\n",
    "                owner_id=ownerID,\n",
    "                timeout=timeOut)\n",
    "            print(isLiked)\n",
    "        except Exception:\n",
    "#             print('ERROR! ' + 'vk.com/wall{0}_{1}'.format(post[1], post[0]))\n",
    "            isLiked = 0\n",
    "\n",
    "        if isLiked:\n",
    "            liked_posts.append('vk.com/wall{0}_{1}'.format(post[1], post[0]))\n",
    "            print('vk.com/wall{}_{}'.format(post[1], post[0]))\n",
    "            time.sleep(1)\n",
    "    return liked_posts"
   ]
  },
  {
   "cell_type": "code",
   "execution_count": 216,
   "metadata": {},
   "outputs": [],
   "source": [
    "user_id = \n",
    "user_id = getUserId(user_id)\n",
    "#getLikes(user_id, 5, vk_api) # Сканируем 5 * 100 = 500 постов"
   ]
  },
  {
   "cell_type": "code",
   "execution_count": 576,
   "metadata": {},
   "outputs": [],
   "source": [
    "import json\n",
    "import time\n",
    "columns = []\n",
    "name = []\n",
    "female = []\n",
    "genres = []\n",
    "def getFriends(user_id,vk_api):\n",
    "    # друзья пользователя\n",
    "    friends_list = vk_api.friends.get(user_id=user_id,v=5.92,fields='nickname')['items']\n",
    "    data_user = []\n",
    "    count = 0\n",
    "    for user in friends_list: \n",
    "        if count == 50:\n",
    "            break\n",
    "        data = []\n",
    "        data_genre = []\n",
    "        if 'deactivated' in user:\n",
    "            continue\n",
    "        user_info = vk_api.users.getSubscriptions(user_id=user['id'],fields='activity',extended=1,count=5,v=5.102)['items']\n",
    "        for x in user_info:\n",
    "            if x['type'] == 'profile':\n",
    "                continue\n",
    "            data.append(x['name'])\n",
    "            data_genre.append(x['activity'])\n",
    "        if data:\n",
    "            data_user.append(data)\n",
    "            genres.append(data_genre)\n",
    "            columns.append(user['id'])\n",
    "            name.append(user['first_name'])\n",
    "            female.append(user['last_name'])\n",
    "        #data_user.update({user['id']:data})\n",
    "        time.sleep(0.3)\n",
    "        count += 1\n",
    "    return data_user"
   ]
  },
  {
   "cell_type": "code",
   "execution_count": 577,
   "metadata": {},
   "outputs": [],
   "source": [
    "data = getFriends(user_id,vk_api)"
   ]
  },
  {
   "cell_type": "code",
   "execution_count": null,
   "metadata": {},
   "outputs": [],
   "source": []
  },
  {
   "cell_type": "code",
   "execution_count": 533,
   "metadata": {},
   "outputs": [],
   "source": []
  },
  {
   "cell_type": "code",
   "execution_count": null,
   "metadata": {},
   "outputs": [],
   "source": []
  },
  {
   "cell_type": "code",
   "execution_count": null,
   "metadata": {},
   "outputs": [],
   "source": []
  },
  {
   "cell_type": "code",
   "execution_count": null,
   "metadata": {},
   "outputs": [],
   "source": []
  },
  {
   "cell_type": "code",
   "execution_count": null,
   "metadata": {},
   "outputs": [],
   "source": []
  },
  {
   "cell_type": "code",
   "execution_count": null,
   "metadata": {
    "scrolled": true
   },
   "outputs": [],
   "source": []
  },
  {
   "cell_type": "code",
   "execution_count": null,
   "metadata": {
    "scrolled": true
   },
   "outputs": [],
   "source": []
  },
  {
   "cell_type": "code",
   "execution_count": null,
   "metadata": {},
   "outputs": [],
   "source": []
  },
  {
   "cell_type": "code",
   "execution_count": null,
   "metadata": {},
   "outputs": [],
   "source": []
  },
  {
   "cell_type": "code",
   "execution_count": null,
   "metadata": {},
   "outputs": [],
   "source": []
  },
  {
   "cell_type": "code",
   "execution_count": null,
   "metadata": {},
   "outputs": [],
   "source": []
  }
 ],
 "metadata": {
  "kernelspec": {
   "display_name": "Python 3",
   "language": "python",
   "name": "python3"
  },
  "language_info": {
   "codemirror_mode": {
    "name": "ipython",
    "version": 3
   },
   "file_extension": ".py",
   "mimetype": "text/x-python",
   "name": "python",
   "nbconvert_exporter": "python",
   "pygments_lexer": "ipython3",
   "version": "3.7.4"
  }
 },
 "nbformat": 4,
 "nbformat_minor": 2
}
