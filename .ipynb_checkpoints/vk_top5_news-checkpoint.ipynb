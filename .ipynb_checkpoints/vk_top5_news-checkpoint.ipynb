{
 "cells": [
  {
   "cell_type": "code",
   "execution_count": 2,
   "metadata": {},
   "outputs": [],
   "source": [
    "import vk\n",
    "import requests\n",
    "import re\n",
    "from datetime import datetime, timedelta\n",
    "import time"
   ]
  },
  {
   "cell_type": "code",
   "execution_count": 32,
   "metadata": {},
   "outputs": [
    {
     "ename": "SyntaxError",
     "evalue": "invalid syntax (<ipython-input-32-eecc8f89120a>, line 1)",
     "output_type": "error",
     "traceback": [
      "\u001b[1;36m  File \u001b[1;32m\"<ipython-input-32-eecc8f89120a>\"\u001b[1;36m, line \u001b[1;32m1\u001b[0m\n\u001b[1;33m    user_login= #пароль\u001b[0m\n\u001b[1;37m                       ^\u001b[0m\n\u001b[1;31mSyntaxError\u001b[0m\u001b[1;31m:\u001b[0m invalid syntax\n"
     ]
    }
   ],
   "source": [
    "user_login= #log\n",
    "user_password= #pas"
   ]
  },
  {
   "cell_type": "code",
   "execution_count": 23,
   "metadata": {},
   "outputs": [],
   "source": [
    "def authentication(login, password):\n",
    "    session = requests.Session()\n",
    "    response = session.get('https://vk.com')\n",
    "    url = re.search(r'action=\"([^\\\"]+)\"', response.text).group(1)\n",
    "    data = {'email': login, 'pass': password}\n",
    "    response = session.post(url, data=data)\n",
    "    return session"
   ]
  },
  {
   "cell_type": "code",
   "execution_count": 24,
   "metadata": {},
   "outputs": [],
   "source": [
    "def oauth(login, password, app_id=7170004, scope=8194):\n",
    "    session = authentication(login, password)\n",
    "    print(session)\n",
    "    data = {\n",
    "        'response_type': 'token',\n",
    "        'redirect_uri':'https://oauth.vk.com/blank.html',\n",
    "        'client_id': app_id,\n",
    "        'scope': scope,\n",
    "        'display': 'page',\n",
    "        'state': 12345,\n",
    "        'revoke' : 0,\n",
    "    }\n",
    "    response = session.post('https://oauth.vk.com/authorize', data=data)\n",
    "    try:\n",
    "        return re.search(r'access_token=([^\\&]+)', response.url).group(1)\n",
    "    except:\n",
    "        return None\n"
   ]
  },
  {
   "cell_type": "code",
   "execution_count": 27,
   "metadata": {},
   "outputs": [],
   "source": [
    "token = oauth(user_login, user_password)\n",
    "ses = vk.Session(access_token=token)  # Авторизация\n",
    "vk_api = vk.API(ses)\n",
    "user_id = # id пользователя"
   ]
  },
  {
   "cell_type": "code",
   "execution_count": 28,
   "metadata": {},
   "outputs": [],
   "source": [
    "def serch_top_five_news(owner_id, domain):\n",
    "    newsfeed = vk_api.wall.get(\n",
    "        owner_id = -owner_id,\n",
    "        domain = domain,\n",
    "        count=50,\n",
    "        v=5.92)\n",
    "    time_one_day = int(time.time()) - 60*60*24\n",
    "    new_filter_feeds = list(filter(lambda x: x['date'] > time_one_day, newsfeed['items']))\n",
    "    top_five_news = sorted(new_filter_feeds, key=lambda x: x['likes']['count'],reverse=True)[:5]\n",
    "    posts = []\n",
    "    for post in top_five_news:\n",
    "        posts.append('vk.com/v5inf?w=wall{}_{}'.format(post['from_id'],post['id']))\n",
    "    return posts"
   ]
  },
  {
   "cell_type": "code",
   "execution_count": 29,
   "metadata": {},
   "outputs": [],
   "source": [
    "def get_Subscriptions(user_id):\n",
    "    user_info = vk_api.users.getSubscriptions(user_id=user_id,fields='activity',extended=1,count=5,v=5.102)['items']\n",
    "    user_info = user_info[:5]\n",
    "    all_posts = {}\n",
    "    for group in user_info:\n",
    "        owner_id = group['id'] \n",
    "        domain = group['screen_name']\n",
    "        all_posts.update({group['name']:serch_top_five_news(owner_id, domain)})\n",
    "    return all_posts"
   ]
  },
  {
   "cell_type": "code",
   "execution_count": 30,
   "metadata": {},
   "outputs": [],
   "source": [
    "top = get_Subscriptions(user_id)"
   ]
  },
  {
   "cell_type": "code",
   "execution_count": 31,
   "metadata": {},
   "outputs": [
    {
     "data": {
      "text/plain": [
       "{'NR': ['vk.com/v5inf?w=wall-29573241_13229082',\n",
       "  'vk.com/v5inf?w=wall-29573241_13228990',\n",
       "  'vk.com/v5inf?w=wall-29573241_13228169',\n",
       "  'vk.com/v5inf?w=wall-29573241_13229889',\n",
       "  'vk.com/v5inf?w=wall-29573241_13230089'],\n",
       " '5 интересных фактов': ['vk.com/v5inf?w=wall-25346844_176685',\n",
       "  'vk.com/v5inf?w=wall-25346844_176682',\n",
       "  'vk.com/v5inf?w=wall-25346844_176681',\n",
       "  'vk.com/v5inf?w=wall-25346844_176680',\n",
       "  'vk.com/v5inf?w=wall-25346844_176675'],\n",
       " 'Virtus.pro': ['vk.com/v5inf?w=wall-75331219_1207225',\n",
       "  'vk.com/v5inf?w=wall-75331219_1206649',\n",
       "  'vk.com/v5inf?w=wall-75331219_1207097',\n",
       "  'vk.com/v5inf?w=wall-75331219_1206756',\n",
       "  'vk.com/v5inf?w=wall-75331219_1206821'],\n",
       " 'E-squire': ['vk.com/v5inf?w=wall-24098496_542726',\n",
       "  'vk.com/v5inf?w=wall-24098496_542616',\n",
       "  'vk.com/v5inf?w=wall-24098496_542879',\n",
       "  'vk.com/v5inf?w=wall-24098496_543245',\n",
       "  'vk.com/v5inf?w=wall-24098496_543049'],\n",
       " 'Netflix': ['vk.com/v5inf?w=wall-161486117_607748',\n",
       "  'vk.com/v5inf?w=wall-161486117_608643',\n",
       "  'vk.com/v5inf?w=wall-161486117_608229',\n",
       "  'vk.com/v5inf?w=wall-161486117_608441',\n",
       "  'vk.com/v5inf?w=wall-161486117_607662']}"
      ]
     },
     "execution_count": 31,
     "metadata": {},
     "output_type": "execute_result"
    }
   ],
   "source": [
    "top"
   ]
  },
  {
   "cell_type": "code",
   "execution_count": 244,
   "metadata": {},
   "outputs": [],
   "source": []
  },
  {
   "cell_type": "code",
   "execution_count": null,
   "metadata": {},
   "outputs": [],
   "source": []
  },
  {
   "cell_type": "code",
   "execution_count": null,
   "metadata": {},
   "outputs": [],
   "source": []
  },
  {
   "cell_type": "code",
   "execution_count": null,
   "metadata": {},
   "outputs": [],
   "source": []
  },
  {
   "cell_type": "code",
   "execution_count": 224,
   "metadata": {},
   "outputs": [],
   "source": []
  },
  {
   "cell_type": "code",
   "execution_count": 225,
   "metadata": {},
   "outputs": [],
   "source": []
  },
  {
   "cell_type": "code",
   "execution_count": null,
   "metadata": {},
   "outputs": [],
   "source": []
  },
  {
   "cell_type": "code",
   "execution_count": 239,
   "metadata": {},
   "outputs": [],
   "source": []
  },
  {
   "cell_type": "code",
   "execution_count": null,
   "metadata": {},
   "outputs": [],
   "source": []
  },
  {
   "cell_type": "code",
   "execution_count": 241,
   "metadata": {},
   "outputs": [],
   "source": []
  },
  {
   "cell_type": "code",
   "execution_count": null,
   "metadata": {
    "scrolled": true
   },
   "outputs": [],
   "source": []
  },
  {
   "cell_type": "code",
   "execution_count": null,
   "metadata": {},
   "outputs": [],
   "source": []
  },
  {
   "cell_type": "code",
   "execution_count": null,
   "metadata": {},
   "outputs": [],
   "source": []
  },
  {
   "cell_type": "code",
   "execution_count": null,
   "metadata": {},
   "outputs": [],
   "source": []
  }
 ],
 "metadata": {
  "kernelspec": {
   "display_name": "Python 3",
   "language": "python",
   "name": "python3"
  },
  "language_info": {
   "codemirror_mode": {
    "name": "ipython",
    "version": 3
   },
   "file_extension": ".py",
   "mimetype": "text/x-python",
   "name": "python",
   "nbconvert_exporter": "python",
   "pygments_lexer": "ipython3",
   "version": "3.7.4"
  }
 },
 "nbformat": 4,
 "nbformat_minor": 2
}
